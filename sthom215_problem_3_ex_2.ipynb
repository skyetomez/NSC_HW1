{
 "cells": [
  {
   "cell_type": "markdown",
   "metadata": {},
   "source": [
    "# Problem 3: Drawing Regions Of Interest (ROIs) \n",
    "\n",
    "Given the summary images, the next step is to draw ROIs around the image to isolate the pixels belonging to a specific cell."
   ]
  },
  {
   "cell_type": "markdown",
   "metadata": {},
   "source": [
    "## Part B: \n",
    "\n",
    "* How might you assess how good your script did?\n",
    "\n",
    "I can assess how well my script did by comparing my ROI to the raw imag eto see how well it captures the details or separates the ROI from the rest of the image frame. "
   ]
  },
  {
   "cell_type": "code",
   "execution_count": null,
   "metadata": {},
   "outputs": [],
   "source": []
  }
 ],
 "metadata": {
  "language_info": {
   "name": "python"
  }
 },
 "nbformat": 4,
 "nbformat_minor": 2
}
