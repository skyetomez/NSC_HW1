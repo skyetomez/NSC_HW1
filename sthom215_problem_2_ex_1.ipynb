{
 "cells": [
  {
   "cell_type": "code",
   "execution_count": 3,
   "metadata": {},
   "outputs": [
    {
     "ename": "UnidentifiedImageError",
     "evalue": "cannot identify image file '/home/skyler/Documents/SP2024/580_695/homeworks/NSC_HW1/TEST_MOVIE_00001-small-motion.tif'",
     "output_type": "error",
     "traceback": [
      "\u001b[0;31m---------------------------------------------------------------------------\u001b[0m",
      "\u001b[0;31mUnidentifiedImageError\u001b[0m                    Traceback (most recent call last)",
      "Cell \u001b[0;32mIn[3], line 20\u001b[0m\n\u001b[1;32m     18\u001b[0m home \u001b[38;5;241m=\u001b[39m Path(os\u001b[38;5;241m.\u001b[39mgetcwd())\n\u001b[1;32m     19\u001b[0m \u001b[38;5;28;01mfrom\u001b[39;00m \u001b[38;5;21;01mPIL\u001b[39;00m \u001b[38;5;28;01mimport\u001b[39;00m Image\n\u001b[0;32m---> 20\u001b[0m \u001b[38;5;28;01mwith\u001b[39;00m \u001b[43mImage\u001b[49m\u001b[38;5;241;43m.\u001b[39;49m\u001b[43mopen\u001b[49m\u001b[43m(\u001b[49m\u001b[43mfname\u001b[49m\u001b[43m)\u001b[49m \u001b[38;5;28;01mas\u001b[39;00m f:\n\u001b[1;32m     21\u001b[0m     f\u001b[38;5;241m.\u001b[39mshow()\n",
      "File \u001b[0;32m~/Documents/SP2024/580_695/homeworks/NSC_HW1/env_hw1/lib/python3.10/site-packages/PIL/Image.py:3339\u001b[0m, in \u001b[0;36mopen\u001b[0;34m(fp, mode, formats)\u001b[0m\n\u001b[1;32m   3337\u001b[0m     warnings\u001b[38;5;241m.\u001b[39mwarn(message)\n\u001b[1;32m   3338\u001b[0m msg \u001b[38;5;241m=\u001b[39m \u001b[38;5;124m\"\u001b[39m\u001b[38;5;124mcannot identify image file \u001b[39m\u001b[38;5;132;01m%r\u001b[39;00m\u001b[38;5;124m\"\u001b[39m \u001b[38;5;241m%\u001b[39m (filename \u001b[38;5;28;01mif\u001b[39;00m filename \u001b[38;5;28;01melse\u001b[39;00m fp)\n\u001b[0;32m-> 3339\u001b[0m \u001b[38;5;28;01mraise\u001b[39;00m UnidentifiedImageError(msg)\n",
      "\u001b[0;31mUnidentifiedImageError\u001b[0m: cannot identify image file '/home/skyler/Documents/SP2024/580_695/homeworks/NSC_HW1/TEST_MOVIE_00001-small-motion.tif'"
     ]
    }
   ],
   "source": [
    "# @title HW 1\n",
    "# @markdown Student Info\n",
    "# @markdown Name: [Skyler Thomas]\n",
    "# @markdown JHED-ID: [sthom215]\n",
    "\n",
    "# @markdown Load up the calcium image video in the file: TEST MOVIE 00001-small-motion.tif. This file represents the raw fluorescence video in TIF format, common for calcium imaging.\n",
    "\n",
    "import os\n",
    "from pathlib import Path\n",
    "home = Path(os.getcwd())\n",
    "\n",
    "from sthom215_problem_2_ex_1 import SummaryImages\n",
    "fname =  r\"TEST_MOVIE_00001-small-motion.tif\"\n",
    "file = home/fname\n",
    "#summary = SummaryImages(file.resolve())\n",
    "\n",
    "from pathlib import Path\n",
    "home = Path(os.getcwd())\n",
    "from PIL import Image\n",
    "fname =  r\"TEST_MOVIE_00001-small-motion.tif\"\n",
    "with Image.open(fname) as f:\n",
    "    f.show()"
   ]
  },
  {
   "cell_type": "code",
   "execution_count": null,
   "metadata": {},
   "outputs": [
    {
     "data": {
      "text/plain": [
       "True"
      ]
     },
     "execution_count": 5,
     "metadata": {},
     "output_type": "execute_result"
    }
   ],
   "source": [
    "'/home/skyler/Documents/SP2024/580_695/homeworks/NSC_HW1/motion.tif' == '/home/skyler/Documents/SP2024/580_695/homeworks/NSC_HW1/motion.tif'"
   ]
  },
  {
   "cell_type": "markdown",
   "metadata": {},
   "source": [
    "# Problem 2: Summary images. \n",
    "\n",
    "Load up the calcium image video in the file: $\\texttt{TEST MOVIE 00001-small.tif}$. This file represents the raw fluorescence video in TIF format, but without the motion. One of the most common ways that people analyze functional data is to try to identify individual cells in the data in a “summary image”. A summary image condenses an entire video sequence into a single image, wherein each pixel represents a summary of the entire time-trace at the location of that pixel in the video."
   ]
  },
  {
   "cell_type": "markdown",
   "metadata": {},
   "source": [
    "## Part A \n",
    "\n",
    "Plot the “mean”, “median”, and “variance” images for the data provided. "
   ]
  },
  {
   "cell_type": "code",
   "execution_count": null,
   "metadata": {},
   "outputs": [],
   "source": [
    "# @title check and load images. \n",
    "import tifffile\n",
    "\n",
    "dir = os.listdir()\n",
    "tiff1 = 'TEST_MOVIE_00001-small-motion.tif'\n",
    "\n",
    "if tiff1 not in dir:\n",
    "    if 'content' in str(Path.cwd().resolve()):\n",
    "        print(\"On gogle colab, mounting drive\")\n",
    "        from google.colab import drive\n",
    "        drive.mount('/content/drive')\n",
    "        cwd = home /'drive/MyDrive/NSC_HW1'\n",
    "        movie = tifffile.imread(cwd/tiff1)\n",
    "    elif 'skyler' in str(Path.cwd().resolve()):\n",
    "        print(\"On skyler's computer, looking for file in work directory\")\n",
    "        for path, dirs, files in os.walk(home.parent):\n",
    "            cwd = Path(path)\n",
    "            if tiff1 in files:\n",
    "                movie = tifffile.imread(cwd/tiff1)\n",
    "            else:\n",
    "                continue\n",
    "    else:\n",
    "        print('file not found, please set home to the correct directory.')\n",
    "\n",
    "else:\n",
    "  movie = tifffile.imread(home/tiff1)"
   ]
  },
  {
   "cell_type": "code",
   "execution_count": null,
   "metadata": {},
   "outputs": [],
   "source": [
    "# @title define functions\n",
    "# Plot the “mean”, “median”, and “variance” images for the data provided. \n"
   ]
  },
  {
   "cell_type": "code",
   "execution_count": null,
   "metadata": {},
   "outputs": [],
   "source": [
    "from PIL import Image\n",
    "\n"
   ]
  },
  {
   "cell_type": "code",
   "execution_count": null,
   "metadata": {},
   "outputs": [],
   "source": []
  },
  {
   "cell_type": "markdown",
   "metadata": {},
   "source": [
    "### What do you notice about the visible cells in each of these?\n",
    "\n",
    "The cells in the meand and median image cells look similar. This suggests that the median and mena pixel are near each other. In the variance image, no cells are visible. This suggests that after mean centering, the majority of the pixels were set to zero while only the intense pixels remained. "
   ]
  }
 ],
 "metadata": {
  "kernelspec": {
   "display_name": "env_hw1",
   "language": "python",
   "name": "python3"
  },
  "language_info": {
   "codemirror_mode": {
    "name": "ipython",
    "version": 3
   },
   "file_extension": ".py",
   "mimetype": "text/x-python",
   "name": "python",
   "nbconvert_exporter": "python",
   "pygments_lexer": "ipython3",
   "version": "3.10.12"
  }
 },
 "nbformat": 4,
 "nbformat_minor": 2
}
