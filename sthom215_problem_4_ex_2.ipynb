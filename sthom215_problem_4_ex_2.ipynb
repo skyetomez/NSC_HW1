{
 "cells": [
  {
   "cell_type": "code",
   "execution_count": null,
   "metadata": {},
   "outputs": [],
   "source": [
    "# @title HW 1\n",
    "# @markdown Student Info\n",
    "# @markdown Name: [Skyler Thomas]\n",
    "# @markdown JHED-ID: [sthom215]\n",
    "\n",
    "# @markdown Load up the calcium image video in the file: TEST MOVIE 00001-small-motion.tif. This file represents the raw fluorescence video in TIF format, common for calcium imaging.\n",
    "\n",
    "import os\n",
    "from pathlib import Path\n",
    "import numpy as np\n",
    "home = Path.cwd()"
   ]
  },
  {
   "cell_type": "markdown",
   "metadata": {},
   "source": [
    "# Problem 4: Time-trace estimation\n",
    "\n",
    "With the ROIs, time-traces need to be extracted by identifying the relative brightness of that region\n",
    "of interest in each frame"
   ]
  },
  {
   "cell_type": "markdown",
   "metadata": {},
   "source": [
    "## Part B: \n",
    "\n",
    "* Do you think that the time-traces reflect the actual activity in the video? How might you test if they are accurate?\n",
    "\n",
    "\n",
    "I think that the time traces reflect what is actually  happening in the video to the extent that the ROI in the video is accurate. The less accurate the ROI, the worse the representation of the time traces is.\n",
    "\n",
    "\n",
    "Similar to checking how a single frame has an accurate ROI, we can employ experts to check the time traces or we can have many people check them and compare their output. These have the advantage that they could allow for fine tuning but both are expensive time wise with the former being just expensive in general. We can again use statistical methods as well, but errors in some of the frames could propagate to other frames as well, worsening the time traces."
   ]
  }
 ],
 "metadata": {
  "language_info": {
   "name": "python"
  }
 },
 "nbformat": 4,
 "nbformat_minor": 2
}
