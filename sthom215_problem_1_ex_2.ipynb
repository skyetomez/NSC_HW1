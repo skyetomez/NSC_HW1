{
  "cells": [
    {
      "cell_type": "code",
      "execution_count": 2,
      "metadata": {
        "colab": {
          "base_uri": "https://localhost:8080/"
        },
        "id": "ON-bdImropGE",
        "outputId": "49d67550-311a-41be-8ad9-4cfe03c9a6a8"
      },
      "outputs": [
        {
          "name": "stdout",
          "output_type": "stream",
          "text": [
            "Mounted at /content/drive\n"
          ]
        }
      ],
      "source": [
        "# @title HW 1\n",
        "# @markdown Student Info\n",
        "# @markdown Name: [Skyler Thomas]\n",
        "# @markdown JHED-ID: [sthom215]\n",
        "\n",
        "# @markdown Load up the calcium image video in the file: TEST MOVIE 00001-small-motion.tif. This file represents the raw fluorescence video in TIF format, common for calcium imaging.\n",
        "\n",
        "import os\n",
        "from pathlib import Path\n",
        "import numpy as np\n",
        "import matplotlib.pyplot as plt\n",
        "from matplotlib.animation import FuncAnimation\n",
        "home = Path.cwd()\n",
        "\n",
        "\n",
        "from google.colab import drive\n",
        "drive.mount('/content/drive')"
      ]
    },
    {
      "cell_type": "markdown",
      "metadata": {
        "id": "fYf6tuDgopGG"
      },
      "source": [
        "## Part B\n",
        "Pick two frames that seem to be particularly offset from each other. Compute their correlation, and repeat for different shifts in space."
      ]
    },
    {
      "cell_type": "code",
      "execution_count": 9,
      "metadata": {
        "cellView": "form",
        "id": "QmNsczAiopGH"
      },
      "outputs": [],
      "source": [
        "# @title load tiff file using the tifffile module\n",
        "import tifffile\n",
        "\n",
        "dir = os.listdir()\n",
        "tiff1 = 'TEST_MOVIE_00001-small-motion.tif'\n",
        "\n",
        "if tiff1 not in dir:\n",
        "  cwd = home /'drive/MyDrive/NSC_HW1'\n",
        "  movie = tifffile.imread(cwd/tiff1)\n",
        "else:\n",
        "  movie = tifffile.imread(home/tiff1)"
      ]
    },
    {
      "cell_type": "code",
      "execution_count": 16,
      "metadata": {
        "id": "YrAx3lmbopGI"
      },
      "outputs": [],
      "source": [
        "def get_correlation(frame1, frame2):\n",
        "    \"\"\"\n",
        "    Done vectorized, very slow and sliding;\n",
        "    \"\"\"\n",
        "    correlations = []\n",
        "    frame1_flat = frame1.flatten()\n",
        "    frame2_flat = frame2.flatten()\n",
        "    # Loop from negative shift to positive shift to cover all possible alignments\n",
        "    max_shift = len(frame1_flat)\n",
        "    for slide in range(-max_shift + 1, max_shift):\n",
        "        if slide < 0:\n",
        "            correlation = np.correlate(frame1_flat[:slide], frame2_flat[-slide:])\n",
        "        else:\n",
        "            correlation = np.correlate(frame1_flat[slide:], frame2_flat[:-slide] if slide != 0 else frame2_flat)\n",
        "        correlations.append(correlation[0])  # Append the scalar result of correlation\n",
        "    # Find the index of the maximum correlation and adjust it to match the correct shift\n",
        "    max_correlation = max(correlations)\n",
        "    best_shift = np.argmax(correlations) - max_shift + 1\n",
        "    return max_correlation, best_shift\n"
      ]
    },
    {
      "cell_type": "code",
      "execution_count": 14,
      "metadata": {
        "colab": {
          "base_uri": "https://localhost:8080/"
        },
        "id": "_TEwHBgKopGI",
        "outputId": "43af9398-9356-4753-fc79-2da6328bb10c"
      },
      "outputs": [
        {
          "name": "stdout",
          "output_type": "stream",
          "text": [
            "max_xcorr is: 27896345835.0\n"
          ]
        }
      ],
      "source": [
        "# @title Choose two frames to get peak correlation:\n",
        "frame1 = 32 # @param {type:\"slider\", min:0, max:100, step:1}\n",
        "frame2 = 52 # @param {type:\"slider\", min:0, max:100, step:1}\n",
        "tmp = get_correlation(movie[frame1,:,:], movie[frame2,:,:])\n",
        "print(f'max_xcorr is: {tmp[0]}')"
      ]
    },
    {
      "cell_type": "code",
      "execution_count": 31,
      "metadata": {
        "cellView": "form",
        "colab": {
          "base_uri": "https://localhost:8080/"
        },
        "id": "PoZOj51OopGJ",
        "outputId": "89e6ba3a-2879-4e35-d2a1-47cefe2b498a"
      },
      "outputs": [
        {
          "name": "stdout",
          "output_type": "stream",
          "text": [
            "max_xcorr is: 28810522681.999992 at pixel (245, 246)\n"
          ]
        }
      ],
      "source": [
        "# @title Choose two frames to get peak correlation:\n",
        "frame1 = 8 # @param {type:\"slider\", min:0, max:100, step:1}\n",
        "frame2 = 81 # @param {type:\"slider\", min:0, max:100, step:1}\n",
        "tmp = get_xcorr_fft(movie[frame1,:,:], movie[frame2,:,:])\n",
        "tmp2 = get_peak(tmp)\n",
        "print(f'max_xcorr is: {tmp[tmp2]} at pixel {(tmp2[0], tmp2[1])}')"
      ]
    }
  ],
  "metadata": {
    "colab": {
      "provenance": [],
      "toc_visible": true
    },
    "kernelspec": {
      "display_name": "env_hw1",
      "language": "python",
      "name": "python3"
    },
    "language_info": {
      "codemirror_mode": {
        "name": "ipython",
        "version": 3
      },
      "file_extension": ".py",
      "mimetype": "text/x-python",
      "name": "python",
      "nbconvert_exporter": "python",
      "pygments_lexer": "ipython3",
      "version": "3.10.12"
    }
  },
  "nbformat": 4,
  "nbformat_minor": 0
}
