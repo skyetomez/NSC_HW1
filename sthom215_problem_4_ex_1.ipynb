{
 "cells": [
  {
   "cell_type": "code",
   "execution_count": 1,
   "metadata": {},
   "outputs": [],
   "source": [
    "# @title HW 1\n",
    "# @markdown Student Info\n",
    "# @markdown Name: [Skyler Thomas]\n",
    "# @markdown JHED-ID: [sthom215]\n",
    "\n",
    "# @markdown Load up the calcium image video in the file: TEST MOVIE 00001-small-motion.tif. This file represents the raw fluorescence video in TIF format, common for calcium imaging.\n",
    "\n",
    "import os\n",
    "from pathlib import Path\n",
    "import numpy as np\n",
    "home = Path.cwd()"
   ]
  },
  {
   "cell_type": "markdown",
   "metadata": {},
   "source": [
    "# Problem 4: Time-trace estimation\n",
    "\n",
    "With the ROIs, time-traces need to be extracted by identifying the relative brightness of that region\n",
    "of interest in each frame"
   ]
  },
  {
   "cell_type": "markdown",
   "metadata": {},
   "source": [
    "## Part A:\n",
    "\n",
    "* Write a function that identifies, for the ROIs identified in Problem 2, their time-traces.\n",
    "\n",
    "* Describe your approach."
   ]
  },
  {
   "cell_type": "code",
   "execution_count": 2,
   "metadata": {},
   "outputs": [
    {
     "name": "stdout",
     "output_type": "stream",
     "text": [
      "movie has shape: (500, 491, 491)\n"
     ]
    }
   ],
   "source": [
    "# @markdown Load the video file using the provided TIFF_IO class.\n",
    "from sthom215_problem_1_ex_1 import TIFF_IO\n",
    "\n",
    "fname = 'TEST_MOVIE_00001-small-motion.tif'\n",
    "tiffreader = TIFF_IO(home/fname)\n",
    "movie = tiffreader.read_tiff()\n",
    "print(\"movie has shape:\", movie.shape)"
   ]
  },
  {
   "cell_type": "code",
   "execution_count": 6,
   "metadata": {},
   "outputs": [],
   "source": [
    "from glob import glob\n",
    "from sthom215_problem_3_ex_1 import get_hw3_roi #get rois from exercise 3\n",
    "from sthom215_problem_4_ex_1 import extract_time_traces\n",
    "\n",
    "#creates ROIs in directory\n",
    "get_hw3_roi(movie) \n",
    "rois = glob('roi*.npy')\n"
   ]
  },
  {
   "cell_type": "code",
   "execution_count": null,
   "metadata": {},
   "outputs": [],
   "source": [
    "movie"
   ]
  }
 ],
 "metadata": {
  "kernelspec": {
   "display_name": "Python 3",
   "language": "python",
   "name": "python3"
  },
  "language_info": {
   "codemirror_mode": {
    "name": "ipython",
    "version": 3
   },
   "file_extension": ".py",
   "mimetype": "text/x-python",
   "name": "python",
   "nbconvert_exporter": "python",
   "pygments_lexer": "ipython3",
   "version": "3.10.12"
  }
 },
 "nbformat": 4,
 "nbformat_minor": 2
}
