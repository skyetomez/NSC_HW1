{
 "cells": [
  {
   "cell_type": "code",
   "execution_count": null,
   "metadata": {},
   "outputs": [],
   "source": [
    "# @title HW 1\n",
    "# @markdown Student Info\n",
    "# @markdown Name: [Skyler Thomas]\n",
    "# @markdown JHED-ID: [sthom215]\n",
    "\n",
    "# @markdown Load up the calcium image video in the file: TEST MOVIE 00001-small-motion.tif. This file represents the raw fluorescence video in TIF format, common for calcium imaging.\n",
    "\n",
    "import os\n",
    "from pathlib import Path\n",
    "import numpy as np\n",
    "home = Path.cwd()"
   ]
  },
  {
   "cell_type": "markdown",
   "metadata": {},
   "source": [
    "# Problem 4: Time-trace estimation\n",
    "\n",
    "With the ROIs, time-traces need to be extracted by identifying the relative brightness of that region\n",
    "of interest in each frame"
   ]
  },
  {
   "cell_type": "markdown",
   "metadata": {},
   "source": [
    "## Part A:\n",
    "\n",
    "* Write a function that identifies, for the ROIs identified in Problem 2, their time-traces.\n",
    "\n",
    "* Describe your approach."
   ]
  },
  {
   "cell_type": "code",
   "execution_count": null,
   "metadata": {},
   "outputs": [],
   "source": [
    "# @markdown Load the video file using the provided TIFF_IO class.\n",
    "from sthom215_problem_1_ex_1 import TIFF_IO\n",
    "\n",
    "fname = 'TEST_MOVIE_00001-small-motion.tif'\n",
    "tiffreader = TIFF_IO(home/fname)\n",
    "movie = tiffreader.read_tiff()\n",
    "print(\"movie has shape:\", movie.shape)"
   ]
  },
  {
   "cell_type": "code",
   "execution_count": null,
   "metadata": {},
   "outputs": [],
   "source": [
    "from sthom215_problem_3_ex_1 import get_hw3_1_solution\n",
    "from sthom215_problem_4_ex_1 import get_hw4_1_solution\n",
    "\n"
   ]
  }
 ],
 "metadata": {
  "language_info": {
   "name": "python"
  }
 },
 "nbformat": 4,
 "nbformat_minor": 2
}
